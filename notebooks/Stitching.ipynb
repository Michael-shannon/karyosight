{
 "cells": [
  {
   "cell_type": "markdown",
   "id": "1547966d",
   "metadata": {},
   "source": [
    "Stitching"
   ]
  },
  {
   "cell_type": "code",
   "execution_count": 1,
   "id": "f9d4c899",
   "metadata": {},
   "outputs": [
    {
     "name": "stderr",
     "output_type": "stream",
     "text": [
      "d:\\GITHUB_SOFTWARE\\mamba_envs\\karyosight-env\\Lib\\site-packages\\pydantic\\_migration.py:283: UserWarning: `pydantic.error_wrappers:ValidationError` has been moved to `pydantic:ValidationError`.\n",
      "  warnings.warn(f'`{import_path}` has been moved to `{new_location}`.')\n"
     ]
    },
    {
     "name": "stdout",
     "output_type": "stream",
     "text": [
      "\n",
      "=== Processing Condition_A ===\n"
     ]
    },
    {
     "ename": "KeyboardInterrupt",
     "evalue": "",
     "output_type": "error",
     "traceback": [
      "\u001b[31m---------------------------------------------------------------------------\u001b[39m",
      "\u001b[31mKeyboardInterrupt\u001b[39m                         Traceback (most recent call last)",
      "\u001b[36mCell\u001b[39m\u001b[36m \u001b[39m\u001b[32mIn[1]\u001b[39m\u001b[32m, line 36\u001b[39m\n\u001b[32m     23\u001b[39m trans = st.compute_translations(meta, scale)\n\u001b[32m     25\u001b[39m \u001b[38;5;66;03m# b) convert to Zarr\u001b[39;00m\n\u001b[32m     26\u001b[39m \u001b[38;5;66;03m# zarr_dir = master.parent / \"zarr\" / cond.name\u001b[39;00m\n\u001b[32m     27\u001b[39m \u001b[38;5;66;03m# zarrs, msims = st.convert_tiles_to_zarr(\u001b[39;00m\n\u001b[32m   (...)\u001b[39m\u001b[32m     33\u001b[39m \u001b[38;5;66;03m#     overwrite=True\u001b[39;00m\n\u001b[32m     34\u001b[39m \u001b[38;5;66;03m# )\u001b[39;00m\n\u001b[32m---> \u001b[39m\u001b[32m36\u001b[39m zarr_paths, msims = \u001b[43mst\u001b[49m\u001b[43m.\u001b[49m\u001b[43mconvert_tiles_to_zarr\u001b[49m\u001b[43m(\u001b[49m\n\u001b[32m     37\u001b[39m \u001b[43m    \u001b[49m\u001b[43mtiles\u001b[49m\u001b[43m \u001b[49m\u001b[43m=\u001b[49m\u001b[43m \u001b[49m\u001b[43mmeta\u001b[49m\u001b[43m[\u001b[49m\u001b[33;43m'\u001b[39;49m\u001b[33;43mtiles\u001b[39;49m\u001b[33;43m'\u001b[39;49m\u001b[43m]\u001b[49m\u001b[43m,\u001b[49m\n\u001b[32m     38\u001b[39m \u001b[43m    \u001b[49m\u001b[43mtif_folder\u001b[49m\u001b[43m=\u001b[49m\u001b[43mcond\u001b[49m\u001b[43m,\u001b[49m\u001b[43m         \u001b[49m\u001b[38;5;66;43;03m# e.g. Path(\"…/analyze/Condition_A\")\u001b[39;49;00m\n\u001b[32m     39\u001b[39m \u001b[43m    \u001b[49m\u001b[43mscale\u001b[49m\u001b[43m=\u001b[49m\u001b[43mscale\u001b[49m\u001b[43m,\u001b[49m\n\u001b[32m     40\u001b[39m \u001b[43m    \u001b[49m\u001b[43mtranslations\u001b[49m\u001b[43m=\u001b[49m\u001b[43mtrans\u001b[49m\u001b[43m,\u001b[49m\n\u001b[32m     41\u001b[39m \u001b[43m    \u001b[49m\u001b[43moverwrite\u001b[49m\u001b[43m=\u001b[49m\u001b[38;5;28;43;01mTrue\u001b[39;49;00m\n\u001b[32m     42\u001b[39m \u001b[43m\u001b[49m\u001b[43m)\u001b[49m\n\u001b[32m     44\u001b[39m \u001b[38;5;66;03m# c) optional channel alignment\u001b[39;00m\n\u001b[32m     45\u001b[39m msims, curr_key = st.perform_channel_alignment(\n\u001b[32m     46\u001b[39m     msims,\n\u001b[32m     47\u001b[39m     do_align=\u001b[38;5;28;01mFalse\u001b[39;00m,\n\u001b[32m     48\u001b[39m     tile_ix=\u001b[32m0\u001b[39m\n\u001b[32m     49\u001b[39m )\n",
      "\u001b[36mFile \u001b[39m\u001b[32mD:\\GITHUB_SOFTWARE\\karyosight\\karyosight\\src\\karyosight\\stitcher.py:241\u001b[39m, in \u001b[36mStitcher.convert_tiles_to_zarr\u001b[39m\u001b[34m(tiles, tif_folder, scale, translations, overwrite)\u001b[39m\n\u001b[32m    239\u001b[39m stem = Path(tile[\u001b[33m'\u001b[39m\u001b[33mfilename\u001b[39m\u001b[33m'\u001b[39m]).stem\n\u001b[32m    240\u001b[39m zarr_path = zarr_folder / \u001b[33mf\u001b[39m\u001b[33m\"\u001b[39m\u001b[38;5;132;01m{\u001b[39;00mstem\u001b[38;5;132;01m}\u001b[39;00m\u001b[33m.zarr\u001b[39m\u001b[33m\"\u001b[39m\n\u001b[32m--> \u001b[39m\u001b[32m241\u001b[39m \u001b[43mngff_utils\u001b[49m\u001b[43m.\u001b[49m\u001b[43mwrite_sim_to_ome_zarr\u001b[49m\u001b[43m(\u001b[49m\u001b[43msim\u001b[49m\u001b[43m,\u001b[49m\u001b[43m \u001b[49m\u001b[38;5;28;43mstr\u001b[39;49m\u001b[43m(\u001b[49m\u001b[43mzarr_path\u001b[49m\u001b[43m)\u001b[49m\u001b[43m,\u001b[49m\u001b[43m \u001b[49m\u001b[43moverwrite\u001b[49m\u001b[43m=\u001b[49m\u001b[43moverwrite\u001b[49m\u001b[43m)\u001b[49m\n\u001b[32m    243\u001b[39m sim  = ngff_utils.read_sim_from_ome_zarr(\u001b[38;5;28mstr\u001b[39m(zarr_path))\n\u001b[32m    244\u001b[39m msim = msi_utils.get_msim_from_sim(sim)\n",
      "\u001b[36mFile \u001b[39m\u001b[32md:\\GITHUB_SOFTWARE\\mamba_envs\\karyosight-env\\Lib\\site-packages\\multiview_stitcher\\ngff_utils.py:260\u001b[39m, in \u001b[36mwrite_sim_to_ome_zarr\u001b[39m\u001b[34m(sim, output_zarr_url, downscale_factors_per_spatial_dim, overwrite)\u001b[39m\n\u001b[32m    248\u001b[39m     output_zarr_arr = zarr.open(\n\u001b[32m    249\u001b[39m         \u001b[33mf\u001b[39m\u001b[33m\"\u001b[39m\u001b[38;5;132;01m{\u001b[39;00moutput_zarr_url\u001b[38;5;132;01m}\u001b[39;00m\u001b[33m/0\u001b[39m\u001b[33m\"\u001b[39m,\n\u001b[32m    250\u001b[39m         shape=sim.data.shape,\n\u001b[32m   (...)\u001b[39m\u001b[32m    256\u001b[39m         mode=\u001b[33m\"\u001b[39m\u001b[33mw\u001b[39m\u001b[33m\"\u001b[39m,\n\u001b[32m    257\u001b[39m     )\n\u001b[32m    259\u001b[39m     \u001b[38;5;66;03m# Write the lowest resolution\u001b[39;00m\n\u001b[32m--> \u001b[39m\u001b[32m260\u001b[39m     sim.data = \u001b[43msim\u001b[49m\u001b[43m.\u001b[49m\u001b[43mdata\u001b[49m\u001b[43m.\u001b[49m\u001b[43mto_zarr\u001b[49m\u001b[43m(\u001b[49m\n\u001b[32m    261\u001b[39m \u001b[43m        \u001b[49m\u001b[43moutput_zarr_arr\u001b[49m\u001b[43m,\u001b[49m\n\u001b[32m    262\u001b[39m \u001b[43m        \u001b[49m\u001b[43moverwrite\u001b[49m\u001b[43m=\u001b[49m\u001b[38;5;28;43;01mTrue\u001b[39;49;00m\u001b[43m,\u001b[49m\n\u001b[32m    263\u001b[39m \u001b[43m        \u001b[49m\u001b[43mdimension_separator\u001b[49m\u001b[43m=\u001b[49m\u001b[33;43m\"\u001b[39;49m\u001b[33;43m/\u001b[39;49m\u001b[33;43m\"\u001b[39;49m\u001b[43m,\u001b[49m\n\u001b[32m    264\u001b[39m \u001b[43m        \u001b[49m\u001b[43mreturn_stored\u001b[49m\u001b[43m=\u001b[49m\u001b[38;5;28;43;01mTrue\u001b[39;49;00m\u001b[43m,\u001b[49m\n\u001b[32m    265\u001b[39m \u001b[43m        \u001b[49m\u001b[43mcompute\u001b[49m\u001b[43m=\u001b[49m\u001b[38;5;28;43;01mTrue\u001b[39;49;00m\u001b[43m,\u001b[49m\n\u001b[32m    266\u001b[39m \u001b[43m    \u001b[49m\u001b[43m)\u001b[49m\n\u001b[32m    267\u001b[39m     top_level_exists = \u001b[38;5;28;01mFalse\u001b[39;00m\n\u001b[32m    269\u001b[39m coordtfs = [\n\u001b[32m    270\u001b[39m     [\n\u001b[32m    271\u001b[39m         {\n\u001b[32m   (...)\u001b[39m\u001b[32m    290\u001b[39m     \u001b[38;5;28;01mfor\u001b[39;00m res_level \u001b[38;5;129;01min\u001b[39;00m \u001b[38;5;28mrange\u001b[39m(n_resolutions)\n\u001b[32m    291\u001b[39m ]\n",
      "\u001b[36mFile \u001b[39m\u001b[32md:\\GITHUB_SOFTWARE\\mamba_envs\\karyosight-env\\Lib\\site-packages\\dask\\array\\core.py:3012\u001b[39m, in \u001b[36mArray.to_zarr\u001b[39m\u001b[34m(self, *args, **kwargs)\u001b[39m\n\u001b[32m   3001\u001b[39m \u001b[38;5;28;01mdef\u001b[39;00m\u001b[38;5;250m \u001b[39m\u001b[34mto_zarr\u001b[39m(\u001b[38;5;28mself\u001b[39m, *args, **kwargs):\n\u001b[32m   3002\u001b[39m \u001b[38;5;250m    \u001b[39m\u001b[33;03m\"\"\"Save array to the zarr storage format\u001b[39;00m\n\u001b[32m   3003\u001b[39m \n\u001b[32m   3004\u001b[39m \u001b[33;03m    See https://zarr.readthedocs.io for details about the format.\u001b[39;00m\n\u001b[32m   (...)\u001b[39m\u001b[32m   3010\u001b[39m \u001b[33;03m    dask.array.to_zarr : equivalent function\u001b[39;00m\n\u001b[32m   3011\u001b[39m \u001b[33;03m    \"\"\"\u001b[39;00m\n\u001b[32m-> \u001b[39m\u001b[32m3012\u001b[39m     \u001b[38;5;28;01mreturn\u001b[39;00m \u001b[43mto_zarr\u001b[49m\u001b[43m(\u001b[49m\u001b[38;5;28;43mself\u001b[39;49m\u001b[43m,\u001b[49m\u001b[43m \u001b[49m\u001b[43m*\u001b[49m\u001b[43margs\u001b[49m\u001b[43m,\u001b[49m\u001b[43m \u001b[49m\u001b[43m*\u001b[49m\u001b[43m*\u001b[49m\u001b[43mkwargs\u001b[49m\u001b[43m)\u001b[49m\n",
      "\u001b[36mFile \u001b[39m\u001b[32md:\\GITHUB_SOFTWARE\\mamba_envs\\karyosight-env\\Lib\\site-packages\\dask\\array\\core.py:3886\u001b[39m, in \u001b[36mto_zarr\u001b[39m\u001b[34m(arr, url, component, storage_options, overwrite, region, compute, return_stored, **kwargs)\u001b[39m\n\u001b[32m   3884\u001b[39m         arr = arr.rechunk(chunks)\n\u001b[32m   3885\u001b[39m         regions = [region]\n\u001b[32m-> \u001b[39m\u001b[32m3886\u001b[39m     \u001b[38;5;28;01mreturn\u001b[39;00m \u001b[43marr\u001b[49m\u001b[43m.\u001b[49m\u001b[43mstore\u001b[49m\u001b[43m(\u001b[49m\n\u001b[32m   3887\u001b[39m \u001b[43m        \u001b[49m\u001b[43mz\u001b[49m\u001b[43m,\u001b[49m\u001b[43m \u001b[49m\u001b[43mlock\u001b[49m\u001b[43m=\u001b[49m\u001b[38;5;28;43;01mFalse\u001b[39;49;00m\u001b[43m,\u001b[49m\u001b[43m \u001b[49m\u001b[43mregions\u001b[49m\u001b[43m=\u001b[49m\u001b[43mregions\u001b[49m\u001b[43m,\u001b[49m\u001b[43m \u001b[49m\u001b[43mcompute\u001b[49m\u001b[43m=\u001b[49m\u001b[43mcompute\u001b[49m\u001b[43m,\u001b[49m\u001b[43m \u001b[49m\u001b[43mreturn_stored\u001b[49m\u001b[43m=\u001b[49m\u001b[43mreturn_stored\u001b[49m\n\u001b[32m   3888\u001b[39m \u001b[43m    \u001b[49m\u001b[43m)\u001b[49m\n\u001b[32m   3889\u001b[39m \u001b[38;5;28;01melse\u001b[39;00m:\n\u001b[32m   3890\u001b[39m     \u001b[38;5;28;01mif\u001b[39;00m \u001b[38;5;129;01mnot\u001b[39;00m _check_regular_chunks(arr.chunks):\n\u001b[32m   3891\u001b[39m         \u001b[38;5;66;03m# We almost certainly get here because auto chunking has been used\u001b[39;00m\n\u001b[32m   3892\u001b[39m         \u001b[38;5;66;03m# on irregular chunks. The max will then be smaller than auto, so using\u001b[39;00m\n\u001b[32m   3893\u001b[39m         \u001b[38;5;66;03m# max is a safe choice\u001b[39;00m\n",
      "\u001b[36mFile \u001b[39m\u001b[32md:\\GITHUB_SOFTWARE\\mamba_envs\\karyosight-env\\Lib\\site-packages\\dask\\array\\core.py:1795\u001b[39m, in \u001b[36mArray.store\u001b[39m\u001b[34m(self, target, **kwargs)\u001b[39m\n\u001b[32m   1793\u001b[39m \u001b[38;5;129m@wraps\u001b[39m(store)\n\u001b[32m   1794\u001b[39m \u001b[38;5;28;01mdef\u001b[39;00m\u001b[38;5;250m \u001b[39m\u001b[34mstore\u001b[39m(\u001b[38;5;28mself\u001b[39m, target, **kwargs):\n\u001b[32m-> \u001b[39m\u001b[32m1795\u001b[39m     \u001b[38;5;28;01mreturn\u001b[39;00m \u001b[43mstore\u001b[49m\u001b[43m(\u001b[49m\u001b[43m[\u001b[49m\u001b[38;5;28;43mself\u001b[39;49m\u001b[43m]\u001b[49m\u001b[43m,\u001b[49m\u001b[43m \u001b[49m\u001b[43m[\u001b[49m\u001b[43mtarget\u001b[49m\u001b[43m]\u001b[49m\u001b[43m,\u001b[49m\u001b[43m \u001b[49m\u001b[43m*\u001b[49m\u001b[43m*\u001b[49m\u001b[43mkwargs\u001b[49m\u001b[43m)\u001b[49m\n",
      "\u001b[36mFile \u001b[39m\u001b[32md:\\GITHUB_SOFTWARE\\mamba_envs\\karyosight-env\\Lib\\site-packages\\dask\\array\\core.py:1230\u001b[39m, in \u001b[36mstore\u001b[39m\u001b[34m(***failed resolving arguments***)\u001b[39m\n\u001b[32m   1228\u001b[39m     \u001b[38;5;28;01mreturn\u001b[39;00m \u001b[38;5;28;01mNone\u001b[39;00m\n\u001b[32m   1229\u001b[39m \u001b[38;5;28;01melse\u001b[39;00m:\n\u001b[32m-> \u001b[39m\u001b[32m1230\u001b[39m     stored_persisted = \u001b[43mpersist\u001b[49m\u001b[43m(\u001b[49m\u001b[43m*\u001b[49m\u001b[43marrays\u001b[49m\u001b[43m,\u001b[49m\u001b[43m \u001b[49m\u001b[43m*\u001b[49m\u001b[43m*\u001b[49m\u001b[43mkwargs\u001b[49m\u001b[43m)\u001b[49m\n\u001b[32m   1231\u001b[39m     arrays = []\n\u001b[32m   1232\u001b[39m     \u001b[38;5;28;01mfor\u001b[39;00m s, r \u001b[38;5;129;01min\u001b[39;00m \u001b[38;5;28mzip\u001b[39m(stored_persisted, regions_list):\n",
      "\u001b[36mFile \u001b[39m\u001b[32md:\\GITHUB_SOFTWARE\\mamba_envs\\karyosight-env\\Lib\\site-packages\\dask\\base.py:1021\u001b[39m, in \u001b[36mpersist\u001b[39m\u001b[34m(traverse, optimize_graph, scheduler, *args, **kwargs)\u001b[39m\n\u001b[32m   1018\u001b[39m     postpersists.append((rebuild, a_keys, state))\n\u001b[32m   1020\u001b[39m \u001b[38;5;28;01mwith\u001b[39;00m shorten_traceback():\n\u001b[32m-> \u001b[39m\u001b[32m1021\u001b[39m     results = \u001b[43mschedule\u001b[49m\u001b[43m(\u001b[49m\u001b[43mexpr\u001b[49m\u001b[43m,\u001b[49m\u001b[43m \u001b[49m\u001b[43mkeys\u001b[49m\u001b[43m,\u001b[49m\u001b[43m \u001b[49m\u001b[43m*\u001b[49m\u001b[43m*\u001b[49m\u001b[43mkwargs\u001b[49m\u001b[43m)\u001b[49m\n\u001b[32m   1023\u001b[39m d = \u001b[38;5;28mdict\u001b[39m(\u001b[38;5;28mzip\u001b[39m(keys, results))\n\u001b[32m   1024\u001b[39m results2 = [r({k: d[k] \u001b[38;5;28;01mfor\u001b[39;00m k \u001b[38;5;129;01min\u001b[39;00m ks}, *s) \u001b[38;5;28;01mfor\u001b[39;00m r, ks, s \u001b[38;5;129;01min\u001b[39;00m postpersists]\n",
      "\u001b[36mFile \u001b[39m\u001b[32md:\\GITHUB_SOFTWARE\\mamba_envs\\karyosight-env\\Lib\\queue.py:213\u001b[39m, in \u001b[36mQueue.get\u001b[39m\u001b[34m(self, block, timeout)\u001b[39m\n\u001b[32m    211\u001b[39m \u001b[38;5;28;01mif\u001b[39;00m remaining <= \u001b[32m0.0\u001b[39m:\n\u001b[32m    212\u001b[39m     \u001b[38;5;28;01mraise\u001b[39;00m Empty\n\u001b[32m--> \u001b[39m\u001b[32m213\u001b[39m \u001b[38;5;28;43mself\u001b[39;49m\u001b[43m.\u001b[49m\u001b[43mnot_empty\u001b[49m\u001b[43m.\u001b[49m\u001b[43mwait\u001b[49m\u001b[43m(\u001b[49m\u001b[43mremaining\u001b[49m\u001b[43m)\u001b[49m\n\u001b[32m    214\u001b[39m \u001b[38;5;28;01mif\u001b[39;00m \u001b[38;5;28mself\u001b[39m.is_shutdown \u001b[38;5;129;01mand\u001b[39;00m \u001b[38;5;129;01mnot\u001b[39;00m \u001b[38;5;28mself\u001b[39m._qsize():\n\u001b[32m    215\u001b[39m     \u001b[38;5;28;01mraise\u001b[39;00m ShutDown\n",
      "\u001b[36mFile \u001b[39m\u001b[32md:\\GITHUB_SOFTWARE\\mamba_envs\\karyosight-env\\Lib\\threading.py:363\u001b[39m, in \u001b[36mCondition.wait\u001b[39m\u001b[34m(self, timeout)\u001b[39m\n\u001b[32m    361\u001b[39m \u001b[38;5;28;01melse\u001b[39;00m:\n\u001b[32m    362\u001b[39m     \u001b[38;5;28;01mif\u001b[39;00m timeout > \u001b[32m0\u001b[39m:\n\u001b[32m--> \u001b[39m\u001b[32m363\u001b[39m         gotit = \u001b[43mwaiter\u001b[49m\u001b[43m.\u001b[49m\u001b[43macquire\u001b[49m\u001b[43m(\u001b[49m\u001b[38;5;28;43;01mTrue\u001b[39;49;00m\u001b[43m,\u001b[49m\u001b[43m \u001b[49m\u001b[43mtimeout\u001b[49m\u001b[43m)\u001b[49m\n\u001b[32m    364\u001b[39m     \u001b[38;5;28;01melse\u001b[39;00m:\n\u001b[32m    365\u001b[39m         gotit = waiter.acquire(\u001b[38;5;28;01mFalse\u001b[39;00m)\n",
      "\u001b[31mKeyboardInterrupt\u001b[39m: "
     ]
    }
   ],
   "source": [
    "import sys\n",
    "sys.path.append(r\"D:\\GITHUB_SOFTWARE\\karyosight\\karyosight\\src\")\n",
    "from karyosight.stitcher import Stitcher\n",
    "import karyosight.config as cfg\n",
    "\n",
    "# 1) instantiate\n",
    "master = cfg.RAW_DIR       # e.g. D:/LUNGBUDMASTERTEST_2/analyze\n",
    "st = Stitcher(master)\n",
    "\n",
    "# 2) define your scale (you said you’ll input this manually)\n",
    "scale = {\n",
    "    \"x\": cfg.PIXEL_SIZE_X,\n",
    "    \"y\": cfg.PIXEL_SIZE_Y,\n",
    "    \"z\": cfg.PIXEL_SIZE_Z,\n",
    "}\n",
    "\n",
    "# 3) loop through each Condition_ folder\n",
    "for cond in st.conditions:\n",
    "    print(f\"\\n=== Processing {cond.name} ===\")\n",
    "\n",
    "    # a) extract metadata & translations\n",
    "    meta = st.extract_metadata(cond)\n",
    "    trans = st.compute_translations(meta, scale)\n",
    "\n",
    "    # b) convert to Zarr\n",
    "    # zarr_dir = master.parent / \"zarr\" / cond.name\n",
    "    # zarrs, msims = st.convert_tiles_to_zarr(\n",
    "    #     meta['tiles'],|\n",
    "    #     tif_folder=cond,\n",
    "    #     zarr_folder=zarr_dir,\n",
    "    #     scale=scale,\n",
    "    #     translations=trans,\n",
    "    #     overwrite=True\n",
    "    # )\n",
    "\n",
    "    zarr_paths, msims = st.convert_tiles_to_zarr(\n",
    "        tiles = meta['tiles'],\n",
    "        tif_folder=cond,         # e.g. Path(\"…/analyze/Condition_A\")\n",
    "        scale=scale,\n",
    "        translations=trans,\n",
    "        overwrite=True\n",
    "    )\n",
    "\n",
    "    # c) optional channel alignment\n",
    "    msims, curr_key = st.perform_channel_alignment(\n",
    "        msims,\n",
    "        do_align=False,\n",
    "        tile_ix=0\n",
    "    )\n",
    "\n",
    "    # d) mosaic registration\n",
    "    params, final_key = st.stitch_tiles(msims, curr_key)\n",
    "\n",
    "    # e) fuse and export\n",
    "    out_dir = cfg.STITCHED_DIR / cond.name\n",
    "    st.fuse_and_export(msims, out_dir, export_tiff=True)\n",
    "\n",
    "    # print(f\"Finished {cond.name}.  Zarrs in {zarr_dir}, stitched in {out_dir}\")\n"
   ]
  },
  {
   "cell_type": "code",
   "execution_count": null,
   "id": "e9b3356b",
   "metadata": {},
   "outputs": [],
   "source": []
  }
 ],
 "metadata": {
  "kernelspec": {
   "display_name": "Python 3",
   "language": "python",
   "name": "python3"
  },
  "language_info": {
   "codemirror_mode": {
    "name": "ipython",
    "version": 3
   },
   "file_extension": ".py",
   "mimetype": "text/x-python",
   "name": "python",
   "nbconvert_exporter": "python",
   "pygments_lexer": "ipython3",
   "version": "3.13.3"
  }
 },
 "nbformat": 4,
 "nbformat_minor": 5
}
